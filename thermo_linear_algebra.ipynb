{
 "cells": [
  {
   "cell_type": "code",
   "execution_count": 1,
   "metadata": {},
   "outputs": [],
   "source": [
    "import thermox\n",
    "import jax\n",
    "import jax.numpy as jnp\n",
    "from jax.scipy.linalg import solve, inv, expm"
   ]
  },
  {
   "cell_type": "markdown",
   "metadata": {},
   "source": [
    "### In this notebook we show how to run three basic thermodynamic algorithms:\n",
    "1. Thermodynamic linear solver: find $x$ such that $Ax = b$,\n",
    "2. Thermodynamic matrix inverse: find $A^{-1}$,\n",
    "3. Thermodynamic matrix exponential: find $\\exp{(A)}$.\n",
    "\n",
    "These algorithms are all based on extracting statistical information from the multivariate Ornstein-Uhlenbeck process, defined as\n",
    "$$ dx = - A(x - b) dt + \\mathcal{N}(0, 2D) $$"
   ]
  },
  {
   "cell_type": "markdown",
   "metadata": {},
   "source": [
    "Let us start with solving a linear system $Ax = b$. In this case, $D = \\mathbb{I}$."
   ]
  },
  {
   "cell_type": "code",
   "execution_count": 2,
   "metadata": {},
   "outputs": [
    {
     "name": "stderr",
     "output_type": "stream",
     "text": [
      "No GPU/TPU found, falling back to CPU. (Set TF_CPP_MIN_LOG_LEVEL=0 and rerun for more info.)\n"
     ]
    }
   ],
   "source": [
    "key = jax.random.PRNGKey(42) # random PRNG key\n",
    "dimension = 50 # problem size\n",
    "mean = jnp.zeros(dimension) # mean vector\n",
    "n = 2 * dimension # number of degrees of freedom\n",
    "A = jax.random.normal(key, shape=(dimension, 2*dimension,))\n",
    "A = (A @ A.T) / n # random positive-semi definite matrix from the Wishart distribution\n",
    "b = jax.random.normal(key, shape=(dimension,))"
   ]
  },
  {
   "cell_type": "code",
   "execution_count": 3,
   "metadata": {},
   "outputs": [],
   "source": [
    "x_s = thermox.linalg.solve(A, b)"
   ]
  },
  {
   "cell_type": "markdown",
   "metadata": {},
   "source": [
    "We know look at the absolute error $||x_s - x^*||$, using `scipy`'s `solve` function to get the exact solution $x^*$:"
   ]
  },
  {
   "cell_type": "code",
   "execution_count": 4,
   "metadata": {},
   "outputs": [
    {
     "name": "stdout",
     "output_type": "stream",
     "text": [
      "||x_s - x*|| =  0.2386516\n"
     ]
    }
   ],
   "source": [
    "print(r\"||x_s - x*|| = \", jnp.linalg.norm(x_s - solve(A,b)))"
   ]
  },
  {
   "cell_type": "markdown",
   "metadata": {},
   "source": [
    "## Thermodynamic matrix inverse\n",
    "\n",
    "This time, no need to define the vector $b$. The matrix is simply defined as the continuous-time correlation matrix\n",
    " $$A^{-1} \\approx C(t,t') = \\langle x(t) x(t')\\rangle$$"
   ]
  },
  {
   "cell_type": "code",
   "execution_count": 5,
   "metadata": {},
   "outputs": [],
   "source": [
    "thermo_inv = thermox.linalg.inv(A)"
   ]
  },
  {
   "cell_type": "code",
   "execution_count": 6,
   "metadata": {},
   "outputs": [
    {
     "name": "stdout",
     "output_type": "stream",
     "text": [
      "||A^{-1} - C(t,t')|| = 1.5911188\n"
     ]
    }
   ],
   "source": [
    "print(\"||A^{-1} - C(t,t')|| =\", jnp.linalg.norm(inv(A) - thermo_inv))"
   ]
  },
  {
   "cell_type": "markdown",
   "metadata": {},
   "source": [
    "Let's increase the number of samples to get a better inverse and look at the error again."
   ]
  },
  {
   "cell_type": "code",
   "execution_count": 7,
   "metadata": {},
   "outputs": [
    {
     "name": "stdout",
     "output_type": "stream",
     "text": [
      "||A^{-1} - C(t,t)|| = 0.46243933\n"
     ]
    }
   ],
   "source": [
    "thermo_inv = thermox.linalg.inv(A, num_samples=100000)\n",
    "print(\"||A^{-1} - C(t,t)|| =\", jnp.linalg.norm(inv(A) - thermo_inv))"
   ]
  },
  {
   "cell_type": "markdown",
   "metadata": {},
   "source": [
    "It went down! And gathering 10 times more samples only took about twice the time.\n",
    "\n",
    "Let us now consider matrix exponentials. Due to the way we obtain the matrix exponentials, the negative exponential $\\exp{(-A)}$ is more easily gathered. This is because the autocovariance function is equal to $\\exp{(-A)}$, when we have $A$ as the drift term of the SDE.\n",
    "\n",
    "$$ C(t+\\tau, t) = \\frac{1}{T} \\int_{t_0}^{t_0+T} dt x(t+\\tau) x^\\intercal(t) = \\exp{(-A \\tau)} $$"
   ]
  },
  {
   "cell_type": "code",
   "execution_count": 8,
   "metadata": {},
   "outputs": [],
   "source": [
    "thermo_negexp = thermox.linalg.negexpm(A)\n"
   ]
  },
  {
   "cell_type": "markdown",
   "metadata": {},
   "source": []
  },
  {
   "cell_type": "code",
   "execution_count": 9,
   "metadata": {},
   "outputs": [
    {
     "name": "stdout",
     "output_type": "stream",
     "text": [
      "||exp(-A) - C(t+tau,t)||= 11.980379\n"
     ]
    }
   ],
   "source": [
    "print(r\"||exp(-A) - C(t+tau,t)||=\", jnp.linalg.norm(expm(-A) - thermo_negexp))"
   ]
  },
  {
   "cell_type": "markdown",
   "metadata": {},
   "source": [
    "We once again increase the number of samples, which brings the error down."
   ]
  },
  {
   "cell_type": "code",
   "execution_count": 10,
   "metadata": {},
   "outputs": [
    {
     "name": "stdout",
     "output_type": "stream",
     "text": [
      "||exp(-A) - C(t+tau,t)||= 11.7069235\n"
     ]
    }
   ],
   "source": [
    "thermo_negexp = thermox.linalg.negexpm(A, num_samples=100000, dt=1)\n",
    "print(r\"||exp(-A) - C(t+tau,t)||=\", jnp.linalg.norm(expm(-A)- thermo_negexp))"
   ]
  },
  {
   "cell_type": "code",
   "execution_count": 12,
   "metadata": {},
   "outputs": [
    {
     "data": {
      "text/plain": [
       "Array([[ 0.40720046, -0.03328243, -0.02611708, ...,  0.00184791,\n",
       "         0.00992731,  0.0052266 ],\n",
       "       [-0.03328243,  0.43882492,  0.01721807, ..., -0.04679395,\n",
       "         0.04036102,  0.00927324],\n",
       "       [-0.02611711,  0.01721807,  0.49518007, ..., -0.02348826,\n",
       "        -0.04853965, -0.03374424],\n",
       "       ...,\n",
       "       [ 0.00184791, -0.04679394, -0.02348826, ...,  0.36010283,\n",
       "        -0.00843086, -0.01626666],\n",
       "       [ 0.00992732,  0.04036099, -0.04853962, ..., -0.00843086,\n",
       "         0.44787568,  0.03868323],\n",
       "       [ 0.00522659,  0.00927324, -0.03374423, ..., -0.01626666,\n",
       "         0.03868322,  0.4745514 ]], dtype=float32)"
      ]
     },
     "execution_count": 12,
     "metadata": {},
     "output_type": "execute_result"
    }
   ],
   "source": [
    "expm(-A)"
   ]
  },
  {
   "cell_type": "code",
   "execution_count": 13,
   "metadata": {},
   "outputs": [
    {
     "data": {
      "text/plain": [
       "Array([[ 0.35323673, -0.04723013, -0.04956634, ...,  0.04042757,\n",
       "         0.17069358, -0.04319467],\n",
       "       [-0.04572637,  0.4247412 ,  0.04245134, ..., -0.02724701,\n",
       "         0.01579872, -0.04349139],\n",
       "       [-0.05000228,  0.04508369,  0.5927514 , ..., -0.04189426,\n",
       "        -0.06609906, -0.15757811],\n",
       "       ...,\n",
       "       [ 0.03831445, -0.02917189, -0.04092848, ...,  1.298541  ,\n",
       "        -0.4910412 , -0.07012267],\n",
       "       [ 0.17045565,  0.01854097, -0.06466547, ..., -0.49167088,\n",
       "         2.5060112 ,  0.07180937],\n",
       "       [-0.03978605, -0.04623749, -0.16110691, ..., -0.0684602 ,\n",
       "         0.06495428,  2.1649857 ]], dtype=float32)"
      ]
     },
     "execution_count": 13,
     "metadata": {},
     "output_type": "execute_result"
    }
   ],
   "source": [
    "thermo_negexp"
   ]
  },
  {
   "cell_type": "markdown",
   "metadata": {},
   "source": [
    "## TODO?? : add notes and code about non-positive matrices for matrix exponentials"
   ]
  },
  {
   "cell_type": "markdown",
   "metadata": {},
   "source": []
  },
  {
   "cell_type": "markdown",
   "metadata": {},
   "source": []
  }
 ],
 "metadata": {
  "kernelspec": {
   "display_name": "Python 3",
   "language": "python",
   "name": "python3"
  },
  "language_info": {
   "codemirror_mode": {
    "name": "ipython",
    "version": 3
   },
   "file_extension": ".py",
   "mimetype": "text/x-python",
   "name": "python",
   "nbconvert_exporter": "python",
   "pygments_lexer": "ipython3",
   "version": "3.10.13"
  }
 },
 "nbformat": 4,
 "nbformat_minor": 2
}
