{
 "cells": [
  {
   "cell_type": "code",
   "execution_count": 1,
   "metadata": {},
   "outputs": [],
   "source": [
    "import thermox\n",
    "import jax\n",
    "import jax.numpy as jnp\n",
    "from scipy.linalg import solve, inv, expm"
   ]
  },
  {
   "cell_type": "markdown",
   "metadata": {},
   "source": [
    "### In this notebook we show how to run three basic thermodynamic algorithms:\n",
    "1. Thermodynamic linear solver: find $x$ such that $Ax = b$,\n",
    "2. Thermodynamic matrix inverse: find $A^{-1}$,\n",
    "3. Thermodynamic matrix exponential: find $\\exp{(A)}$.\n",
    "\n",
    "These algorithms are all based on the multivariate Ornstein-Uhlenbeck process, defined as\n",
    "$$ dx = - A(x - b) dt + \\mathcal{N}(0, 2D) $$"
   ]
  },
  {
   "cell_type": "markdown",
   "metadata": {},
   "source": [
    "Let us start with solving a linear system $Ax = b$. In this case, $D = \\mathbb{I}$."
   ]
  },
  {
   "cell_type": "code",
   "execution_count": 2,
   "metadata": {},
   "outputs": [
    {
     "name": "stderr",
     "output_type": "stream",
     "text": [
      "No GPU/TPU found, falling back to CPU. (Set TF_CPP_MIN_LOG_LEVEL=0 and rerun for more info.)\n"
     ]
    }
   ],
   "source": [
    "key = jax.random.PRNGKey(0) # random PRNG key\n",
    "dimension = 100 # problem size\n",
    "mean = jnp.zeros(dimension) # mean vector\n",
    "A = jax.random.normal(key, shape=(dimension, 2*dimension,))\n",
    "A = A @ A.T # random positive-semi definite matrix from the Wishart distribution\n",
    "b = jax.random.normal(key, shape=(dimension,))"
   ]
  },
  {
   "cell_type": "code",
   "execution_count": 3,
   "metadata": {},
   "outputs": [
    {
     "data": {
      "text/plain": [
       "Array([-0.04291015,  0.00502984,  0.01298528, -0.00028778, -0.01526742,\n",
       "       -0.00567479,  0.01533074, -0.01003827, -0.0050336 , -0.00972303,\n",
       "       -0.01738689, -0.00678701,  0.02312178,  0.00757717, -0.00638804,\n",
       "        0.00790122, -0.01896622,  0.01315646, -0.02966048, -0.01008006,\n",
       "        0.00765205, -0.00272523, -0.01280687,  0.01449428, -0.00697023,\n",
       "        0.00979751,  0.00458921, -0.00285588,  0.01644798, -0.00951699,\n",
       "        0.01204343, -0.02854497,  0.0011238 , -0.00382948, -0.01173987,\n",
       "        0.02511922, -0.01580777, -0.02315124,  0.00045882,  0.00419719,\n",
       "       -0.00103077, -0.01266642,  0.02562701,  0.01339333,  0.02357866,\n",
       "        0.00899012,  0.00454874, -0.00576508, -0.00708199,  0.00854757,\n",
       "       -0.00158417,  0.0159873 ,  0.01952366, -0.00064415,  0.0175536 ,\n",
       "       -0.01097133,  0.00723158,  0.03912605, -0.00986775, -0.01613855,\n",
       "        0.00183138,  0.03305778, -0.00103753,  0.0260798 , -0.00595791,\n",
       "        0.02330123,  0.00846258, -0.01343022, -0.00485881,  0.03178912,\n",
       "       -0.00074369,  0.00890481,  0.02260181, -0.00268303, -0.01658812,\n",
       "       -0.00831603,  0.005992  ,  0.02071327, -0.01089349,  0.01647349,\n",
       "        0.01592538,  0.0104038 ,  0.00048463,  0.0155002 , -0.0163208 ,\n",
       "        0.01583491, -0.01727157,  0.01694203,  0.00860078,  0.01843242,\n",
       "       -0.00938479, -0.02282023, -0.00845581, -0.01218354,  0.00387424,\n",
       "       -0.00332724, -0.02928898,  0.01089799,  0.0141703 , -0.02300432],      dtype=float32)"
      ]
     },
     "execution_count": 3,
     "metadata": {},
     "output_type": "execute_result"
    }
   ],
   "source": [
    "x = thermox.linalg.solve(A, b)\n",
    "x"
   ]
  },
  {
   "cell_type": "markdown",
   "metadata": {},
   "source": [
    "We know look at the absolute error $||\\bar{x} - A^{-1}b||$:"
   ]
  },
  {
   "cell_type": "code",
   "execution_count": 9,
   "metadata": {},
   "outputs": [
    {
     "name": "stdout",
     "output_type": "stream",
     "text": [
      "||\\bar{x} - A^{-1}b|| =  0.0100456355\n"
     ]
    }
   ],
   "source": [
    "print(r\"||\\bar{x} - A^{-1}b|| = \", jnp.linalg.norm(solve(A,b) - x))"
   ]
  },
  {
   "cell_type": "markdown",
   "metadata": {},
   "source": [
    "## Thermodynamic matrix inverse\n",
    "\n",
    "This time, no need to define the vector $b$. The matrix is simply defined as the continuous-time correlation matrix\n",
    " $$A^{-1} \\approx C(t,t') = \\langle x(t) x(t')\\rangle$$"
   ]
  },
  {
   "cell_type": "code",
   "execution_count": null,
   "metadata": {},
   "outputs": [],
   "source": []
  }
 ],
 "metadata": {
  "kernelspec": {
   "display_name": "Python 3",
   "language": "python",
   "name": "python3"
  },
  "language_info": {
   "codemirror_mode": {
    "name": "ipython",
    "version": 3
   },
   "file_extension": ".py",
   "mimetype": "text/x-python",
   "name": "python",
   "nbconvert_exporter": "python",
   "pygments_lexer": "ipython3",
   "version": "3.10.13"
  }
 },
 "nbformat": 4,
 "nbformat_minor": 2
}
