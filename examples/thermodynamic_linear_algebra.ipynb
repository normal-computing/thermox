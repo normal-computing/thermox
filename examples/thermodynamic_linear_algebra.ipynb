{
 "cells": [
  {
   "cell_type": "code",
   "execution_count": 1,
   "metadata": {},
   "outputs": [],
   "source": [
    "import thermox\n",
    "import jax\n",
    "import jax.numpy as jnp\n",
    "from jax.scipy.linalg import solve, inv, expm"
   ]
  },
  {
   "cell_type": "markdown",
   "metadata": {},
   "source": [
    "In this notebook we show how to run three basic thermodynamic algorithms, using functions from `thermox.linalg`:\n",
    "\n",
    "1. Thermodynamic linear solver: find $x$ such that $Ax = b$,\n",
    "2. Thermodynamic matrix inverse: find $A^{-1}$,\n",
    "3. Thermodynamic matrix exponential: find $\\exp{(A)}$.\n",
    "\n",
    "These algorithms are all based on extracting statistical information from the multivariate Ornstein-Uhlenbeck process, defined as\n",
    "$$ dx = - A(x - b) dt + \\mathcal{N}(0, 2D) $$"
   ]
  },
  {
   "cell_type": "markdown",
   "metadata": {},
   "source": [
    "Let us start with solving a linear system $Ax = b$. In this case, $D = \\mathbb{I}$."
   ]
  },
  {
   "cell_type": "code",
   "execution_count": 2,
   "metadata": {},
   "outputs": [],
   "source": [
    "key = jax.random.PRNGKey(42) # random PRNG key\n",
    "dimension = 50 # problem size\n",
    "mean = jnp.zeros(dimension) # mean vector\n",
    "n = 2 * dimension # number of degrees of freedom\n",
    "A = jax.random.normal(key, shape=(dimension, 2*dimension,))\n",
    "A = (A @ A.T) / n # random positive-semi definite matrix from the Wishart distribution\n",
    "b = jax.random.normal(key, shape=(dimension,))"
   ]
  },
  {
   "cell_type": "code",
   "execution_count": 3,
   "metadata": {},
   "outputs": [],
   "source": [
    "x_s = thermox.linalg.solve(A, b)"
   ]
  },
  {
   "cell_type": "markdown",
   "metadata": {},
   "source": [
    "We know look at the absolute error $||x_s - x^*||$, using `scipy`'s `solve` function to get the exact solution $x^*$:"
   ]
  },
  {
   "cell_type": "code",
   "execution_count": 4,
   "metadata": {},
   "outputs": [
    {
     "name": "stdout",
     "output_type": "stream",
     "text": [
      "||x_s - x*|| =  0.14343248\n"
     ]
    }
   ],
   "source": [
    "print(r\"||x_s - x*|| = \", jnp.linalg.norm(x_s - solve(A,b)))"
   ]
  },
  {
   "cell_type": "markdown",
   "metadata": {},
   "source": [
    "## Thermodynamic matrix inverse\n",
    "\n",
    "This time, no need to define the vector $b$. The matrix is simply defined as the continuous-time correlation matrix\n",
    " $$A^{-1} \\approx C(t,t') = \\langle x(t) x(t')\\rangle$$"
   ]
  },
  {
   "cell_type": "code",
   "execution_count": 5,
   "metadata": {},
   "outputs": [],
   "source": [
    "thermo_inv = thermox.linalg.inv(A)"
   ]
  },
  {
   "cell_type": "code",
   "execution_count": 6,
   "metadata": {},
   "outputs": [
    {
     "name": "stdout",
     "output_type": "stream",
     "text": [
      "||A^{-1} - C(t,t')|| = 1.7223996\n"
     ]
    }
   ],
   "source": [
    "print(\"||A^{-1} - C(t,t')|| =\", jnp.linalg.norm(inv(A) - thermo_inv))"
   ]
  },
  {
   "cell_type": "markdown",
   "metadata": {},
   "source": [
    "Let's increase the number of samples to get a better inverse and look at the error again."
   ]
  },
  {
   "cell_type": "code",
   "execution_count": 7,
   "metadata": {},
   "outputs": [
    {
     "name": "stdout",
     "output_type": "stream",
     "text": [
      "||A^{-1} - C(t,t)|| = 0.5807177\n"
     ]
    }
   ],
   "source": [
    "thermo_inv = thermox.linalg.inv(A, num_samples=100000)\n",
    "print(\"||A^{-1} - C(t,t)|| =\", jnp.linalg.norm(inv(A) - thermo_inv))"
   ]
  },
  {
   "cell_type": "markdown",
   "metadata": {},
   "source": [
    "It went down! And gathering 10 times more samples only took about twice the time."
   ]
  },
  {
   "cell_type": "markdown",
   "metadata": {},
   "source": [
    "## Thermodynamic matrix exponential\n",
    "\n",
    "Let us now consider matrix exponentials. Due to the way we obtain the matrix exponentials, the negative exponential $\\exp{(-A)}$ is more easily gathered. This is because the autocovariance function is equal to $\\exp{(-A)}$, when we have $A$ as the drift term of the SDE.\n",
    "\n",
    "$$ C(t+\\tau, t) = \\frac{1}{T} \\int_{t_0}^{t_0+T} dt x(t+\\tau) x^\\intercal(t) = \\exp{(-A \\tau)} $$"
   ]
  },
  {
   "cell_type": "code",
   "execution_count": 8,
   "metadata": {},
   "outputs": [],
   "source": [
    "thermo_negexp = thermox.linalg.expnegm(A)\n"
   ]
  },
  {
   "cell_type": "code",
   "execution_count": 9,
   "metadata": {},
   "outputs": [
    {
     "name": "stdout",
     "output_type": "stream",
     "text": [
      "||exp(-A) - C(t+tau,t)||= 0.6535645\n"
     ]
    }
   ],
   "source": [
    "print(r\"||exp(-A) - C(t+tau,t)||=\", jnp.linalg.norm(expm(-A) - thermo_negexp))"
   ]
  },
  {
   "cell_type": "markdown",
   "metadata": {},
   "source": [
    "We once again increase the number of samples, which brings the error down."
   ]
  },
  {
   "cell_type": "code",
   "execution_count": 10,
   "metadata": {},
   "outputs": [
    {
     "name": "stdout",
     "output_type": "stream",
     "text": [
      "||exp(-A) - C(t+tau,t)||= 0.21104243\n"
     ]
    }
   ],
   "source": [
    "thermo_negexp = thermox.linalg.expnegm(A, num_samples=100000, dt=1)\n",
    "print(r\"||exp(-A) - C(t+tau,t)||=\", jnp.linalg.norm(expm(-A)- thermo_negexp))"
   ]
  }
 ],
 "metadata": {
  "kernelspec": {
   "display_name": "Python 3",
   "language": "python",
   "name": "python3"
  },
  "language_info": {
   "codemirror_mode": {
    "name": "ipython",
    "version": 3
   },
   "file_extension": ".py",
   "mimetype": "text/x-python",
   "name": "python",
   "nbconvert_exporter": "python",
   "pygments_lexer": "ipython3",
   "version": "3.10.13"
  }
 },
 "nbformat": 4,
 "nbformat_minor": 2
}
